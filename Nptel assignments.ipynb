{
 "cells": [
  {
   "cell_type": "code",
   "execution_count": 7,
   "metadata": {},
   "outputs": [
    {
     "data": {
      "text/plain": [
       "True"
      ]
     },
     "execution_count": 7,
     "metadata": {},
     "output_type": "execute_result"
    }
   ],
   "source": [
    "# find if the number is a sum of squares\n",
    "def sumofsquares(n):\n",
    "    if n<0:\n",
    "        return False\n",
    "    for i in range(1,int(n**0.5)+1):\n",
    "        for j in range(1,int(n**0.5)+1):\n",
    "            m = i**2 +j**2\n",
    "            if m==n:\n",
    "                return True\n",
    "            elif m>n:\n",
    "                break\n",
    "    return False\n",
    "            \n",
    "sumofsquares(41)"
   ]
  },
  {
   "cell_type": "markdown",
   "metadata": {},
   "source": [
    "**FIND IF THE STRING IS WELL BRACKETED**"
   ]
  },
  {
   "cell_type": "code",
   "execution_count": 14,
   "metadata": {},
   "outputs": [
    {
     "data": {
      "text/plain": [
       "True"
      ]
     },
     "execution_count": 14,
     "metadata": {},
     "output_type": "execute_result"
    }
   ],
   "source": [
    "# find if the string is well bracketed\n",
    "def wellbracketed(l):\n",
    "    left=0\n",
    "    right = 0\n",
    "    for i in l:\n",
    "        if i==\"(\":\n",
    "            left=left+1\n",
    "        if i==\")\":\n",
    "            right = right+1\n",
    "            \n",
    "    if right!=0 and left!=0 and right==left:\n",
    "        return True\n",
    "       \n",
    "    return False\n",
    "wellbracketed(\"(a+b)\")\n",
    "\n",
    "# print(wellbracketed(\"(a+(b)(a)-b)\"))\n",
    "# print(wellbracketed(\"(a+(b)(a)-b\"))\n",
    "# print(wellbracketed(\"(a+b)\"))\n",
    "# print(wellbracketed(\"435\"))"
   ]
  },
  {
   "cell_type": "markdown",
   "metadata": {},
   "source": [
    "**ROTATE LIST ACCORDING TO THE GIVEN NUMBER**"
   ]
  },
  {
   "cell_type": "code",
   "execution_count": 42,
   "metadata": {},
   "outputs": [
    {
     "data": {
      "text/plain": [
       "[7, 8, 1, 2, 3, 4, 5, 6]"
      ]
     },
     "execution_count": 42,
     "metadata": {},
     "output_type": "execute_result"
    }
   ],
   "source": [
    "def rotatelist(l,shft):\n",
    "    x = len(l)\n",
    "    shft= shft%x    \n",
    "    ans = l[x-shft:] + l[:x-shft]  \n",
    "    return ans\n",
    "    \n",
    "    \n",
    "rotatelist([1,2,3,4,5,6,7,8],10)"
   ]
  },
  {
   "cell_type": "markdown",
   "metadata": {},
   "source": [
    "*end of assignment 2*"
   ]
  },
  {
   "cell_type": "code",
   "execution_count": null,
   "metadata": {
    "collapsed": true
   },
   "outputs": [],
   "source": []
  },
  {
   "cell_type": "markdown",
   "metadata": {},
   "source": [
    "**ASSIGNMENT 3**"
   ]
  },
  {
   "cell_type": "markdown",
   "metadata": {},
   "source": [
    "**check if the list is in ascending order and true or false accordingly**"
   ]
  },
  {
   "cell_type": "code",
   "execution_count": 4,
   "metadata": {},
   "outputs": [
    {
     "data": {
      "text/plain": [
       "True"
      ]
     },
     "execution_count": 4,
     "metadata": {},
     "output_type": "execute_result"
    }
   ],
   "source": [
    "def check(l):\n",
    "    return l == sorted(l)\n",
    "\n",
    "check([22,22,22,234,2345])"
   ]
  },
  {
   "cell_type": "markdown",
   "metadata": {},
   "source": [
    "** define a function that returns true if the elements in the lists alternatingly go up and down**"
   ]
  },
  {
   "cell_type": "code",
   "execution_count": 25,
   "metadata": {},
   "outputs": [
    {
     "data": {
      "text/plain": [
       "True"
      ]
     },
     "execution_count": 25,
     "metadata": {},
     "output_type": "execute_result"
    }
   ],
   "source": [
    "def alternating(l):\n",
    "    \n",
    "    for i in range(1,len(l)-1):\n",
    "        if not (l[i-1] < l[i] > l[i+1] or\n",
    "               l[i-1] > l[i] < l[i+1]):\n",
    "            return False\n",
    "    return True\n",
    "list = [1,3,2,3,1,5]\n",
    "alternating(list)"
   ]
  },
  {
   "cell_type": "markdown",
   "metadata": {},
   "source": [
    "** Multiplication of matrices **"
   ]
  },
  {
   "cell_type": "code",
   "execution_count": 33,
   "metadata": {},
   "outputs": [
    {
     "data": {
      "text/plain": [
       "[[49], [83], [110]]"
      ]
     },
     "execution_count": 33,
     "metadata": {},
     "output_type": "execute_result"
    }
   ],
   "source": [
    "def matmult(X, Y):\n",
    "    row=len(X)\n",
    "    col=len(Y[0])\n",
    "    result = [[0 for i in range(col)] for j in range(row)]\n",
    "    for i in range(len(X)):\n",
    "        for j in range(len(Y[0])):\n",
    "            for k in range(len(Y)):\n",
    "                result[i][j] += X[i][k] * Y[k][j]\n",
    "    return result\n",
    "matmult([[3,5,7],[8,9,10],[11,12,13]],[[2],[3],[4]])"
   ]
  },
  {
   "cell_type": "markdown",
   "metadata": {},
   "source": [
    "*end of assignment 3*"
   ]
  },
  {
   "cell_type": "markdown",
   "metadata": {},
   "source": [
    "**Assignment 4 begins**"
   ]
  },
  {
   "cell_type": "markdown",
   "metadata": {
    "collapsed": true
   },
   "source": [
    "**>>> histogram([13,12,11,13,14,13,7,7,13,14,12])\n",
    "[(11, 1), (7, 2), (12, 2), (14, 2), (13, 4)]**"
   ]
  },
  {
   "cell_type": "code",
   "execution_count": 7,
   "metadata": {},
   "outputs": [
    {
     "data": {
      "text/plain": [
       "[(11, 1), (14, 1), (12, 2), (7, 2), (13, 4)]"
      ]
     },
     "execution_count": 7,
     "metadata": {},
     "output_type": "execute_result"
    }
   ],
   "source": [
    "def histogram(l):\n",
    "    d={}\n",
    "    for i in l:\n",
    "        if i in d.keys():\n",
    "            d[i]+=1\n",
    "        else:\n",
    "            d[i]=1\n",
    "    ans=[]\n",
    "    for a in d.keys():\n",
    "        no_of_times = d[a]\n",
    "        ans.append((a,no_of_times))\n",
    "   # ans = sorted(ans,key = lambda x: x[0])\n",
    "    ans = sorted(ans,key = lambda x: x[1])\n",
    "    \n",
    "    return ans\n",
    "histogram([13,12,11,13,14,13,7,7,13,12])"
   ]
  },
  {
   "cell_type": "markdown",
   "metadata": {},
   "source": [
    "**transcript**"
   ]
  },
  {
   "cell_type": "code",
   "execution_count": 64,
   "metadata": {},
   "outputs": [
    {
     "ename": "UnboundLocalError",
     "evalue": "local variable 'intemp' referenced before assignment",
     "output_type": "error",
     "traceback": [
      "\u001b[1;31m---------------------------------------------------------------------------\u001b[0m",
      "\u001b[1;31mUnboundLocalError\u001b[0m                         Traceback (most recent call last)",
      "\u001b[1;32m<ipython-input-64-2582445da55a>\u001b[0m in \u001b[0;36m<module>\u001b[1;34m()\u001b[0m\n\u001b[0;32m     16\u001b[0m         \u001b[1;31m#tuple = tuple + temp\u001b[0m\u001b[1;33m\u001b[0m\u001b[1;33m\u001b[0m\u001b[0m\n\u001b[0;32m     17\u001b[0m     \u001b[1;32mreturn\u001b[0m \u001b[0mintemp\u001b[0m\u001b[1;33m\u001b[0m\u001b[0m\n\u001b[1;32m---> 18\u001b[1;33m \u001b[0mtranscript\u001b[0m\u001b[1;33m(\u001b[0m\u001b[1;33m[\u001b[0m\u001b[1;33m(\u001b[0m\u001b[1;34m\"MA101\"\u001b[0m\u001b[1;33m,\u001b[0m\u001b[1;34m\"Calculus\"\u001b[0m\u001b[1;33m)\u001b[0m\u001b[1;33m,\u001b[0m\u001b[1;33m(\u001b[0m\u001b[1;34m\"PH101\"\u001b[0m\u001b[1;33m,\u001b[0m\u001b[1;34m\"Mechanics\"\u001b[0m\u001b[1;33m)\u001b[0m\u001b[1;33m,\u001b[0m\u001b[1;33m(\u001b[0m\u001b[1;34m\"HU101\"\u001b[0m\u001b[1;33m,\u001b[0m\u001b[1;34m\"English\"\u001b[0m\u001b[1;33m)\u001b[0m\u001b[1;33m]\u001b[0m\u001b[1;33m,\u001b[0m\u001b[1;33m[\u001b[0m\u001b[1;33m(\u001b[0m\u001b[1;34m\"UGM2018001\"\u001b[0m\u001b[1;33m,\u001b[0m\u001b[1;34m\"Rohit Grewal\"\u001b[0m\u001b[1;33m)\u001b[0m\u001b[1;33m,\u001b[0m\u001b[1;33m(\u001b[0m\u001b[1;34m\"UGP2018132\"\u001b[0m\u001b[1;33m,\u001b[0m\u001b[1;34m\"Neha Talwar\"\u001b[0m\u001b[1;33m)\u001b[0m\u001b[1;33m]\u001b[0m\u001b[1;33m,\u001b[0m\u001b[1;33m[\u001b[0m\u001b[1;33m(\u001b[0m\u001b[1;34m\"UGM2018001\"\u001b[0m\u001b[1;33m,\u001b[0m\u001b[1;34m\"MA101\"\u001b[0m\u001b[1;33m,\u001b[0m\u001b[1;34m\"AB\"\u001b[0m\u001b[1;33m)\u001b[0m\u001b[1;33m,\u001b[0m\u001b[1;33m(\u001b[0m\u001b[1;34m\"UGP2018132\"\u001b[0m\u001b[1;33m,\u001b[0m\u001b[1;34m\"PH101\"\u001b[0m\u001b[1;33m,\u001b[0m\u001b[1;34m\"B\"\u001b[0m\u001b[1;33m)\u001b[0m\u001b[1;33m,\u001b[0m\u001b[1;33m(\u001b[0m\u001b[1;34m\"UGM2018001\"\u001b[0m\u001b[1;33m,\u001b[0m\u001b[1;34m\"PH101\"\u001b[0m\u001b[1;33m,\u001b[0m\u001b[1;34m\"B\"\u001b[0m\u001b[1;33m)\u001b[0m\u001b[1;33m]\u001b[0m\u001b[1;33m)\u001b[0m\u001b[1;33m\u001b[0m\u001b[0m\n\u001b[0m\u001b[0;32m     19\u001b[0m \u001b[1;33m\u001b[0m\u001b[0m\n\u001b[0;32m     20\u001b[0m \u001b[1;31m#expected answer\u001b[0m\u001b[1;33m\u001b[0m\u001b[1;33m\u001b[0m\u001b[0m\n",
      "\u001b[1;32m<ipython-input-64-2582445da55a>\u001b[0m in \u001b[0;36mtranscript\u001b[1;34m(course, student, grades)\u001b[0m\n\u001b[0;32m     15\u001b[0m \u001b[1;33m\u001b[0m\u001b[0m\n\u001b[0;32m     16\u001b[0m         \u001b[1;31m#tuple = tuple + temp\u001b[0m\u001b[1;33m\u001b[0m\u001b[1;33m\u001b[0m\u001b[0m\n\u001b[1;32m---> 17\u001b[1;33m     \u001b[1;32mreturn\u001b[0m \u001b[0mintemp\u001b[0m\u001b[1;33m\u001b[0m\u001b[0m\n\u001b[0m\u001b[0;32m     18\u001b[0m \u001b[0mtranscript\u001b[0m\u001b[1;33m(\u001b[0m\u001b[1;33m[\u001b[0m\u001b[1;33m(\u001b[0m\u001b[1;34m\"MA101\"\u001b[0m\u001b[1;33m,\u001b[0m\u001b[1;34m\"Calculus\"\u001b[0m\u001b[1;33m)\u001b[0m\u001b[1;33m,\u001b[0m\u001b[1;33m(\u001b[0m\u001b[1;34m\"PH101\"\u001b[0m\u001b[1;33m,\u001b[0m\u001b[1;34m\"Mechanics\"\u001b[0m\u001b[1;33m)\u001b[0m\u001b[1;33m,\u001b[0m\u001b[1;33m(\u001b[0m\u001b[1;34m\"HU101\"\u001b[0m\u001b[1;33m,\u001b[0m\u001b[1;34m\"English\"\u001b[0m\u001b[1;33m)\u001b[0m\u001b[1;33m]\u001b[0m\u001b[1;33m,\u001b[0m\u001b[1;33m[\u001b[0m\u001b[1;33m(\u001b[0m\u001b[1;34m\"UGM2018001\"\u001b[0m\u001b[1;33m,\u001b[0m\u001b[1;34m\"Rohit Grewal\"\u001b[0m\u001b[1;33m)\u001b[0m\u001b[1;33m,\u001b[0m\u001b[1;33m(\u001b[0m\u001b[1;34m\"UGP2018132\"\u001b[0m\u001b[1;33m,\u001b[0m\u001b[1;34m\"Neha Talwar\"\u001b[0m\u001b[1;33m)\u001b[0m\u001b[1;33m]\u001b[0m\u001b[1;33m,\u001b[0m\u001b[1;33m[\u001b[0m\u001b[1;33m(\u001b[0m\u001b[1;34m\"UGM2018001\"\u001b[0m\u001b[1;33m,\u001b[0m\u001b[1;34m\"MA101\"\u001b[0m\u001b[1;33m,\u001b[0m\u001b[1;34m\"AB\"\u001b[0m\u001b[1;33m)\u001b[0m\u001b[1;33m,\u001b[0m\u001b[1;33m(\u001b[0m\u001b[1;34m\"UGP2018132\"\u001b[0m\u001b[1;33m,\u001b[0m\u001b[1;34m\"PH101\"\u001b[0m\u001b[1;33m,\u001b[0m\u001b[1;34m\"B\"\u001b[0m\u001b[1;33m)\u001b[0m\u001b[1;33m,\u001b[0m\u001b[1;33m(\u001b[0m\u001b[1;34m\"UGM2018001\"\u001b[0m\u001b[1;33m,\u001b[0m\u001b[1;34m\"PH101\"\u001b[0m\u001b[1;33m,\u001b[0m\u001b[1;34m\"B\"\u001b[0m\u001b[1;33m)\u001b[0m\u001b[1;33m]\u001b[0m\u001b[1;33m)\u001b[0m\u001b[1;33m\u001b[0m\u001b[0m\n\u001b[0;32m     19\u001b[0m \u001b[1;33m\u001b[0m\u001b[0m\n",
      "\u001b[1;31mUnboundLocalError\u001b[0m: local variable 'intemp' referenced before assignment"
     ]
    }
   ],
   "source": [
    "def transcript(course,student,grades):\n",
    "    course.sort()\n",
    "    student.sort()\n",
    "    grades.sort()\n",
    "    for studentdetail in student:\n",
    "        tuple = studentdetail\n",
    "        temp = []\n",
    "        for grade in grades:\n",
    "            if studentdetail[0] == grades[0]:\n",
    "                for coursedetail in courses:\n",
    "                    if grades[1] == coursedetail[0]:\n",
    "                        intemp = coursedetail\n",
    "                        intemp = temp + grades[2]\n",
    "                        temp.append(intemp)\n",
    "        \n",
    "        #tuple = tuple + temp\n",
    "    return intemp\n",
    "transcript([(\"MA101\",\"Calculus\"),(\"PH101\",\"Mechanics\"),(\"HU101\",\"English\")],[(\"UGM2018001\",\"Rohit Grewal\"),(\"UGP2018132\",\"Neha Talwar\")],[(\"UGM2018001\",\"MA101\",\"AB\"),(\"UGP2018132\",\"PH101\",\"B\"),(\"UGM2018001\",\"PH101\",\"B\")])\n",
    "\n",
    "#expected answer\n",
    "#xans = \"[('UGM2018001', 'Rohit Grewal', [('MA101', 'Calculus', 'AB'), ('PH101', 'Mechanics', 'B')]), ('UGP2018132', 'Neha Talwar', [('PH101', 'Mechanics', 'B')])]\"\n",
    "#print(xans)"
   ]
  },
  {
   "cell_type": "code",
   "execution_count": null,
   "metadata": {
    "collapsed": true
   },
   "outputs": [],
   "source": []
  }
 ],
 "metadata": {
  "kernelspec": {
   "display_name": "Python 3",
   "language": "python",
   "name": "python3"
  },
  "language_info": {
   "codemirror_mode": {
    "name": "ipython",
    "version": 3
   },
   "file_extension": ".py",
   "mimetype": "text/x-python",
   "name": "python",
   "nbconvert_exporter": "python",
   "pygments_lexer": "ipython3",
   "version": "3.6.3"
  }
 },
 "nbformat": 4,
 "nbformat_minor": 2
}
